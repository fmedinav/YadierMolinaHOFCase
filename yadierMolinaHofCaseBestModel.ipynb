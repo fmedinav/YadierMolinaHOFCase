{
 "cells": [
  {
   "cell_type": "markdown",
   "id": "eef479d7",
   "metadata": {},
   "source": [
    "### Will Yadier Molina be inducted into the MLB Hall of Fame?\n",
    "This is a machine learning exercise with the objective of answering this controversial question. Will Yadier Molina be inducted into the hall of fame? This is a second version of this exercise. The improvements to this algorithm relative to the previous is the evaluation of different machie learning models and not just two. The best model is selected and then fed with Yadier Molina's data."
   ]
  },
  {
   "cell_type": "code",
   "execution_count": 1,
   "id": "81a376c9",
   "metadata": {},
   "outputs": [],
   "source": [
    "# Import libraries\n",
    "import numpy as np\n",
    "import pandas as pd\n",
    "import pandas_profiling\n",
    "\n",
    "# Import libraries for model validation\n",
    "from sklearn.model_selection import train_test_split\n",
    "from sklearn.model_selection import KFold\n",
    "from sklearn import preprocessing\n",
    "from sklearn.model_selection import cross_val_score\n",
    "\n",
    "# Import machine learning model libraries\n",
    "from sklearn.dummy import DummyClassifier\n",
    "from sklearn.linear_model import LogisticRegression\n",
    "from sklearn.tree import DecisionTreeClassifier\n",
    "from sklearn.neighbors import KNeighborsClassifier\n",
    "from sklearn.naive_bayes import GaussianNB\n",
    "from sklearn.svm import SVC\n",
    "from sklearn.ensemble import RandomForestClassifier\n",
    "import xgboost"
   ]
  },
  {
   "cell_type": "markdown",
   "id": "d41a9bff",
   "metadata": {},
   "source": [
    "### Importing and checking the data"
   ]
  },
  {
   "cell_type": "code",
   "execution_count": 2,
   "id": "216a7f9b",
   "metadata": {},
   "outputs": [
    {
     "data": {
      "text/html": [
       "<div>\n",
       "<style scoped>\n",
       "    .dataframe tbody tr th:only-of-type {\n",
       "        vertical-align: middle;\n",
       "    }\n",
       "\n",
       "    .dataframe tbody tr th {\n",
       "        vertical-align: top;\n",
       "    }\n",
       "\n",
       "    .dataframe thead th {\n",
       "        text-align: right;\n",
       "    }\n",
       "</style>\n",
       "<table border=\"1\" class=\"dataframe\">\n",
       "  <thead>\n",
       "    <tr style=\"text-align: right;\">\n",
       "      <th></th>\n",
       "      <th>playerID</th>\n",
       "      <th>nameFirst</th>\n",
       "      <th>nameLast</th>\n",
       "      <th>birthYear</th>\n",
       "      <th>birthCountry</th>\n",
       "      <th>G_c</th>\n",
       "      <th>G_all</th>\n",
       "      <th>AB</th>\n",
       "      <th>R</th>\n",
       "      <th>RBI</th>\n",
       "      <th>H</th>\n",
       "      <th>2B</th>\n",
       "      <th>3B</th>\n",
       "      <th>HR</th>\n",
       "      <th>AVG</th>\n",
       "      <th>PB</th>\n",
       "      <th>SB</th>\n",
       "      <th>inducted</th>\n",
       "    </tr>\n",
       "  </thead>\n",
       "  <tbody>\n",
       "    <tr>\n",
       "      <th>0</th>\n",
       "      <td>allisdo01</td>\n",
       "      <td>Doug</td>\n",
       "      <td>Allison</td>\n",
       "      <td>1846.0</td>\n",
       "      <td>USA</td>\n",
       "      <td>277.0</td>\n",
       "      <td>316.0</td>\n",
       "      <td>1407.0</td>\n",
       "      <td>236.0</td>\n",
       "      <td>139.0</td>\n",
       "      <td>382.0</td>\n",
       "      <td>44.0</td>\n",
       "      <td>10.0</td>\n",
       "      <td>2.0</td>\n",
       "      <td>0.271500</td>\n",
       "      <td>166.0</td>\n",
       "      <td>0.0</td>\n",
       "      <td>False</td>\n",
       "    </tr>\n",
       "    <tr>\n",
       "      <th>1</th>\n",
       "      <td>alomasa02</td>\n",
       "      <td>Sandy</td>\n",
       "      <td>Alomar</td>\n",
       "      <td>1966.0</td>\n",
       "      <td>P.R.</td>\n",
       "      <td>1324.0</td>\n",
       "      <td>1377.0</td>\n",
       "      <td>4530.0</td>\n",
       "      <td>520.0</td>\n",
       "      <td>588.0</td>\n",
       "      <td>1236.0</td>\n",
       "      <td>249.0</td>\n",
       "      <td>10.0</td>\n",
       "      <td>112.0</td>\n",
       "      <td>0.272848</td>\n",
       "      <td>71.0</td>\n",
       "      <td>758.0</td>\n",
       "      <td>False</td>\n",
       "    </tr>\n",
       "  </tbody>\n",
       "</table>\n",
       "</div>"
      ],
      "text/plain": [
       "    playerID nameFirst nameLast  birthYear birthCountry     G_c   G_all  \\\n",
       "0  allisdo01      Doug  Allison     1846.0          USA   277.0   316.0   \n",
       "1  alomasa02     Sandy   Alomar     1966.0         P.R.  1324.0  1377.0   \n",
       "\n",
       "       AB      R    RBI       H     2B    3B     HR       AVG     PB     SB  \\\n",
       "0  1407.0  236.0  139.0   382.0   44.0  10.0    2.0  0.271500  166.0    0.0   \n",
       "1  4530.0  520.0  588.0  1236.0  249.0  10.0  112.0  0.272848   71.0  758.0   \n",
       "\n",
       "   inducted  \n",
       "0     False  \n",
       "1     False  "
      ]
     },
     "execution_count": 2,
     "metadata": {},
     "output_type": "execute_result"
    }
   ],
   "source": [
    "# Import the data frame with the catchers information. This dataframe was gathered in the past algorithm\n",
    "stats_df = pd.read_csv('molina_stats_df.csv', index_col=0)\n",
    "stats_df.head(2)"
   ]
  },
  {
   "cell_type": "code",
   "execution_count": 3,
   "id": "20321512",
   "metadata": {},
   "outputs": [
    {
     "data": {
      "text/html": [
       "<div>\n",
       "<style scoped>\n",
       "    .dataframe tbody tr th:only-of-type {\n",
       "        vertical-align: middle;\n",
       "    }\n",
       "\n",
       "    .dataframe tbody tr th {\n",
       "        vertical-align: top;\n",
       "    }\n",
       "\n",
       "    .dataframe thead th {\n",
       "        text-align: right;\n",
       "    }\n",
       "</style>\n",
       "<table border=\"1\" class=\"dataframe\">\n",
       "  <thead>\n",
       "    <tr style=\"text-align: right;\">\n",
       "      <th></th>\n",
       "      <th>G_c</th>\n",
       "      <th>G_all</th>\n",
       "      <th>AB</th>\n",
       "      <th>R</th>\n",
       "      <th>RBI</th>\n",
       "      <th>H</th>\n",
       "      <th>2B</th>\n",
       "      <th>3B</th>\n",
       "      <th>HR</th>\n",
       "      <th>AVG</th>\n",
       "      <th>PB</th>\n",
       "      <th>SB</th>\n",
       "    </tr>\n",
       "  </thead>\n",
       "  <tbody>\n",
       "    <tr>\n",
       "      <th>0</th>\n",
       "      <td>2180</td>\n",
       "      <td>2221</td>\n",
       "      <td>7806</td>\n",
       "      <td>777</td>\n",
       "      <td>1020</td>\n",
       "      <td>2167</td>\n",
       "      <td>408</td>\n",
       "      <td>7</td>\n",
       "      <td>176</td>\n",
       "      <td>278</td>\n",
       "      <td>96</td>\n",
       "      <td>562</td>\n",
       "    </tr>\n",
       "  </tbody>\n",
       "</table>\n",
       "</div>"
      ],
      "text/plain": [
       "    G_c  G_all    AB    R   RBI     H   2B  3B   HR  AVG  PB   SB\n",
       "0  2180   2221  7806  777  1020  2167  408   7  176  278  96  562"
      ]
     },
     "execution_count": 3,
     "metadata": {},
     "output_type": "execute_result"
    }
   ],
   "source": [
    "# Collect the Yadier Molina's Data. This data has the X format, which is different than the above format for all the other catchers\n",
    "# This is a manual input with the numbers updated to sep-21-2022\n",
    "molinaDict = [{'G_c':2180 , # Games as catcher\n",
    "              'G_all':2221, # Games played\n",
    "              'AB':7806,    # At-bat\n",
    "              'R':777,      # Runs scored\n",
    "              'RBI':1020,   # Runs Batted In\n",
    "              'H':2167,     # Hits\n",
    "              '2B':408,     # Doubles\n",
    "              '3B':7,       # Triples\n",
    "              'HR':176,     # Home Runs\n",
    "              'AVG':278,    # Batting Average\n",
    "              'PB':96,      # Pastball\n",
    "              'SB':562}]    # Defensive Stolen Bases\n",
    "molina = pd.DataFrame(molinaDict)\n",
    "molina"
   ]
  },
  {
   "cell_type": "code",
   "execution_count": 4,
   "id": "17e3b611",
   "metadata": {},
   "outputs": [
    {
     "data": {
      "text/plain": [
       "playerID         object\n",
       "nameFirst        object\n",
       "nameLast         object\n",
       "birthYear       float64\n",
       "birthCountry     object\n",
       "G_c             float64\n",
       "G_all           float64\n",
       "AB              float64\n",
       "R               float64\n",
       "RBI             float64\n",
       "H               float64\n",
       "2B              float64\n",
       "3B              float64\n",
       "HR              float64\n",
       "AVG             float64\n",
       "PB              float64\n",
       "SB              float64\n",
       "inducted           bool\n",
       "dtype: object"
      ]
     },
     "execution_count": 4,
     "metadata": {},
     "output_type": "execute_result"
    }
   ],
   "source": [
    "# Checking the datatypes\n",
    "stats_df.dtypes"
   ]
  },
  {
   "cell_type": "code",
   "execution_count": 5,
   "id": "ad3ad6fe",
   "metadata": {},
   "outputs": [],
   "source": [
    "# Profile report on the stats dataframe. This code takes 1 minute to run. Uncomment if needed\n",
    "pandas_profiling.ProfileReport(stats_df)"
   ]
  },
  {
   "cell_type": "code",
   "execution_count": 6,
   "id": "f39be90b",
   "metadata": {},
   "outputs": [
    {
     "data": {
      "text/html": [
       "<div>\n",
       "<style scoped>\n",
       "    .dataframe tbody tr th:only-of-type {\n",
       "        vertical-align: middle;\n",
       "    }\n",
       "\n",
       "    .dataframe tbody tr th {\n",
       "        vertical-align: top;\n",
       "    }\n",
       "\n",
       "    .dataframe thead th {\n",
       "        text-align: right;\n",
       "    }\n",
       "</style>\n",
       "<table border=\"1\" class=\"dataframe\">\n",
       "  <thead>\n",
       "    <tr style=\"text-align: right;\">\n",
       "      <th></th>\n",
       "      <th>birthYear</th>\n",
       "      <th>G_c</th>\n",
       "      <th>G_all</th>\n",
       "      <th>AB</th>\n",
       "      <th>R</th>\n",
       "      <th>RBI</th>\n",
       "      <th>H</th>\n",
       "      <th>2B</th>\n",
       "      <th>3B</th>\n",
       "      <th>HR</th>\n",
       "      <th>AVG</th>\n",
       "      <th>PB</th>\n",
       "      <th>SB</th>\n",
       "    </tr>\n",
       "  </thead>\n",
       "  <tbody>\n",
       "    <tr>\n",
       "      <th>count</th>\n",
       "      <td>116.000000</td>\n",
       "      <td>116.000000</td>\n",
       "      <td>116.000000</td>\n",
       "      <td>116.000000</td>\n",
       "      <td>116.000000</td>\n",
       "      <td>116.000000</td>\n",
       "      <td>116.000000</td>\n",
       "      <td>116.000000</td>\n",
       "      <td>116.000000</td>\n",
       "      <td>116.000000</td>\n",
       "      <td>116.000000</td>\n",
       "      <td>116.000000</td>\n",
       "      <td>116.000000</td>\n",
       "    </tr>\n",
       "    <tr>\n",
       "      <th>mean</th>\n",
       "      <td>1919.327586</td>\n",
       "      <td>1093.327586</td>\n",
       "      <td>1384.474138</td>\n",
       "      <td>4546.267241</td>\n",
       "      <td>567.543103</td>\n",
       "      <td>615.724138</td>\n",
       "      <td>1225.948276</td>\n",
       "      <td>212.396552</td>\n",
       "      <td>34.163793</td>\n",
       "      <td>103.491379</td>\n",
       "      <td>0.263997</td>\n",
       "      <td>103.974138</td>\n",
       "      <td>433.215517</td>\n",
       "    </tr>\n",
       "    <tr>\n",
       "      <th>std</th>\n",
       "      <td>36.110164</td>\n",
       "      <td>529.067001</td>\n",
       "      <td>555.743817</td>\n",
       "      <td>2070.563840</td>\n",
       "      <td>340.851756</td>\n",
       "      <td>348.163544</td>\n",
       "      <td>612.252503</td>\n",
       "      <td>118.757545</td>\n",
       "      <td>27.013988</td>\n",
       "      <td>104.234476</td>\n",
       "      <td>0.025724</td>\n",
       "      <td>100.738789</td>\n",
       "      <td>427.542763</td>\n",
       "    </tr>\n",
       "    <tr>\n",
       "      <th>min</th>\n",
       "      <td>1846.000000</td>\n",
       "      <td>67.000000</td>\n",
       "      <td>120.000000</td>\n",
       "      <td>343.000000</td>\n",
       "      <td>38.000000</td>\n",
       "      <td>39.000000</td>\n",
       "      <td>82.000000</td>\n",
       "      <td>8.000000</td>\n",
       "      <td>3.000000</td>\n",
       "      <td>2.000000</td>\n",
       "      <td>0.192708</td>\n",
       "      <td>6.000000</td>\n",
       "      <td>0.000000</td>\n",
       "    </tr>\n",
       "    <tr>\n",
       "      <th>25%</th>\n",
       "      <td>1889.750000</td>\n",
       "      <td>699.000000</td>\n",
       "      <td>939.500000</td>\n",
       "      <td>2892.000000</td>\n",
       "      <td>313.250000</td>\n",
       "      <td>334.000000</td>\n",
       "      <td>733.250000</td>\n",
       "      <td>120.500000</td>\n",
       "      <td>15.750000</td>\n",
       "      <td>20.000000</td>\n",
       "      <td>0.244849</td>\n",
       "      <td>56.000000</td>\n",
       "      <td>0.000000</td>\n",
       "    </tr>\n",
       "    <tr>\n",
       "      <th>50%</th>\n",
       "      <td>1922.000000</td>\n",
       "      <td>1113.000000</td>\n",
       "      <td>1435.000000</td>\n",
       "      <td>4493.000000</td>\n",
       "      <td>528.500000</td>\n",
       "      <td>586.500000</td>\n",
       "      <td>1209.500000</td>\n",
       "      <td>204.500000</td>\n",
       "      <td>27.500000</td>\n",
       "      <td>67.000000</td>\n",
       "      <td>0.264832</td>\n",
       "      <td>75.500000</td>\n",
       "      <td>310.500000</td>\n",
       "    </tr>\n",
       "    <tr>\n",
       "      <th>75%</th>\n",
       "      <td>1949.000000</td>\n",
       "      <td>1456.500000</td>\n",
       "      <td>1776.000000</td>\n",
       "      <td>5864.000000</td>\n",
       "      <td>712.750000</td>\n",
       "      <td>815.500000</td>\n",
       "      <td>1582.000000</td>\n",
       "      <td>272.250000</td>\n",
       "      <td>47.250000</td>\n",
       "      <td>174.500000</td>\n",
       "      <td>0.282194</td>\n",
       "      <td>121.500000</td>\n",
       "      <td>753.500000</td>\n",
       "    </tr>\n",
       "    <tr>\n",
       "      <th>max</th>\n",
       "      <td>1974.000000</td>\n",
       "      <td>2427.000000</td>\n",
       "      <td>2850.000000</td>\n",
       "      <td>10876.000000</td>\n",
       "      <td>1844.000000</td>\n",
       "      <td>1430.000000</td>\n",
       "      <td>3060.000000</td>\n",
       "      <td>668.000000</td>\n",
       "      <td>178.000000</td>\n",
       "      <td>427.000000</td>\n",
       "      <td>0.319598</td>\n",
       "      <td>639.000000</td>\n",
       "      <td>1586.000000</td>\n",
       "    </tr>\n",
       "  </tbody>\n",
       "</table>\n",
       "</div>"
      ],
      "text/plain": [
       "         birthYear          G_c        G_all            AB            R  \\\n",
       "count   116.000000   116.000000   116.000000    116.000000   116.000000   \n",
       "mean   1919.327586  1093.327586  1384.474138   4546.267241   567.543103   \n",
       "std      36.110164   529.067001   555.743817   2070.563840   340.851756   \n",
       "min    1846.000000    67.000000   120.000000    343.000000    38.000000   \n",
       "25%    1889.750000   699.000000   939.500000   2892.000000   313.250000   \n",
       "50%    1922.000000  1113.000000  1435.000000   4493.000000   528.500000   \n",
       "75%    1949.000000  1456.500000  1776.000000   5864.000000   712.750000   \n",
       "max    1974.000000  2427.000000  2850.000000  10876.000000  1844.000000   \n",
       "\n",
       "               RBI            H          2B          3B          HR  \\\n",
       "count   116.000000   116.000000  116.000000  116.000000  116.000000   \n",
       "mean    615.724138  1225.948276  212.396552   34.163793  103.491379   \n",
       "std     348.163544   612.252503  118.757545   27.013988  104.234476   \n",
       "min      39.000000    82.000000    8.000000    3.000000    2.000000   \n",
       "25%     334.000000   733.250000  120.500000   15.750000   20.000000   \n",
       "50%     586.500000  1209.500000  204.500000   27.500000   67.000000   \n",
       "75%     815.500000  1582.000000  272.250000   47.250000  174.500000   \n",
       "max    1430.000000  3060.000000  668.000000  178.000000  427.000000   \n",
       "\n",
       "              AVG          PB           SB  \n",
       "count  116.000000  116.000000   116.000000  \n",
       "mean     0.263997  103.974138   433.215517  \n",
       "std      0.025724  100.738789   427.542763  \n",
       "min      0.192708    6.000000     0.000000  \n",
       "25%      0.244849   56.000000     0.000000  \n",
       "50%      0.264832   75.500000   310.500000  \n",
       "75%      0.282194  121.500000   753.500000  \n",
       "max      0.319598  639.000000  1586.000000  "
      ]
     },
     "execution_count": 6,
     "metadata": {},
     "output_type": "execute_result"
    }
   ],
   "source": [
    "# Check descriptive statistics values for the stats dataframe\n",
    "stats_df.describe()"
   ]
  },
  {
   "cell_type": "code",
   "execution_count": 7,
   "id": "14068350",
   "metadata": {},
   "outputs": [
    {
     "data": {
      "text/plain": [
       "0"
      ]
     },
     "execution_count": 7,
     "metadata": {},
     "output_type": "execute_result"
    }
   ],
   "source": [
    "# Check for null values\n",
    "# stats_df.isnull().sum() provides the null by feature\n",
    "# stats_df.isnull().sum().sum() provides the total of null values\n",
    "stats_df.isnull().sum().sum()"
   ]
  },
  {
   "cell_type": "code",
   "execution_count": 8,
   "id": "ff6bd489",
   "metadata": {},
   "outputs": [
    {
     "data": {
      "text/plain": [
       "10.0     5\n",
       "12.0     5\n",
       "27.0     4\n",
       "34.0     4\n",
       "6.0      4\n",
       "        ..\n",
       "45.0     1\n",
       "178.0    1\n",
       "40.0     1\n",
       "72.0     1\n",
       "76.0     1\n",
       "Name: 3B, Length: 61, dtype: int64"
      ]
     },
     "execution_count": 8,
     "metadata": {},
     "output_type": "execute_result"
    }
   ],
   "source": [
    "# See all of the different values for a particular column\n",
    "stats_df['3B'].value_counts()"
   ]
  },
  {
   "cell_type": "code",
   "execution_count": 9,
   "id": "4af032ab",
   "metadata": {},
   "outputs": [],
   "source": [
    "# Normalize data. This is a procedure which gets z value for all the cells.\n",
    "# Z value is a descrptive statistics value which indicates how many standard deviations a value is away relative to the mean\n",
    "scaler = preprocessing.StandardScaler()\n",
    "stats_df_normalized = scaler.fit_transform(stats_df.drop(['playerID', 'nameFirst', 'nameLast', 'birthYear','birthCountry', 'inducted'], axis=1))"
   ]
  },
  {
   "cell_type": "code",
   "execution_count": 28,
   "id": "3d7eb369",
   "metadata": {},
   "outputs": [
    {
     "data": {
      "text/plain": [
       "0.8285714285714286"
      ]
     },
     "execution_count": 28,
     "metadata": {},
     "output_type": "execute_result"
    }
   ],
   "source": [
    "# Split the data into training and test data and create a baseline model using Dummy Classifier\n",
    "X_train, X_test, y_train, y_test = train_test_split(stats_df_normalized, stats_df['inducted'], test_size=0.3, random_state=42)\n",
    "bm = DummyClassifier()\n",
    "bm.fit(X_train, y_train)\n",
    "bm.score(X_test, y_test)"
   ]
  },
  {
   "cell_type": "code",
   "execution_count": 11,
   "id": "99933cd2",
   "metadata": {},
   "outputs": [],
   "source": [
    "# Create a models list. It will be used in the next steps\n",
    "models_list = [\n",
    "    DummyClassifier,\n",
    "    LogisticRegression,\n",
    "    DecisionTreeClassifier,\n",
    "    KNeighborsClassifier,\n",
    "    GaussianNB,\n",
    "    SVC,\n",
    "    RandomForestClassifier,\n",
    "    xgboost.XGBClassifier\n",
    "]"
   ]
  },
  {
   "cell_type": "code",
   "execution_count": 22,
   "id": "cc25dd0a",
   "metadata": {},
   "outputs": [
    {
     "name": "stdout",
     "output_type": "stream",
     "text": [
      "DummyClassifier        AUC: 0.791 STD: 0.09\n",
      "LogisticRegression     AUC: 0.834 STD: 0.10\n",
      "DecisionTreeClassifier AUC: 0.748 STD: 0.06\n",
      "KNeighborsClassifier   AUC: 0.844 STD: 0.08\n",
      "GaussianNB             AUC: 0.801 STD: 0.09\n",
      "SVC                    AUC: 0.858 STD: 0.13\n",
      "RandomForestClassifier AUC: 0.852 STD: 0.08\n",
      "XGBClassifier          AUC: 0.819 STD: 0.08\n"
     ]
    }
   ],
   "source": [
    "# Observe the different scores for the different models for normalized data\n",
    "X = stats_df_normalized\n",
    "y = stats_df['inducted'].values\n",
    "\n",
    "for model in models_list:\n",
    "    cls = model()\n",
    "    kfold = KFold(n_splits=10, random_state=42, shuffle=True)\n",
    "    s = cross_val_score(cls, X, y, cv=kfold)\n",
    "    print(\n",
    "        f\"{model.__name__:22} AUC: {s.mean():.3f} STD: {s.std():.2f}\"\n",
    "    )"
   ]
  },
  {
   "cell_type": "code",
   "execution_count": 25,
   "id": "e62cf541",
   "metadata": {},
   "outputs": [
    {
     "name": "stderr",
     "output_type": "stream",
     "text": [
      "C:\\Users\\Usuario\\AppData\\Local\\Programs\\Python\\Python310\\lib\\site-packages\\sklearn\\base.py:443: UserWarning: X has feature names, but SVC was fitted without feature names\n",
      "  warnings.warn(\n"
     ]
    },
    {
     "data": {
      "text/plain": [
       "array([False])"
      ]
     },
     "execution_count": 25,
     "metadata": {},
     "output_type": "execute_result"
    }
   ],
   "source": [
    "# With the best model predict for Yadier Molina\n",
    "best_model = SVC()\n",
    "best_model.fit(X,y)\n",
    "best_model.predict(molina)"
   ]
  },
  {
   "cell_type": "code",
   "execution_count": 26,
   "id": "053b0b47",
   "metadata": {},
   "outputs": [
    {
     "name": "stdout",
     "output_type": "stream",
     "text": [
      "DummyClassifier        Prediction: [False]\n",
      "LogisticRegression     Prediction: [ True]\n",
      "DecisionTreeClassifier Prediction: [ True]\n",
      "KNeighborsClassifier   Prediction: [ True]\n",
      "GaussianNB             Prediction: [ True]\n",
      "SVC                    Prediction: [False]\n"
     ]
    },
    {
     "name": "stderr",
     "output_type": "stream",
     "text": [
      "C:\\Users\\Usuario\\AppData\\Local\\Programs\\Python\\Python310\\lib\\site-packages\\sklearn\\base.py:443: UserWarning: X has feature names, but LogisticRegression was fitted without feature names\n",
      "  warnings.warn(\n",
      "C:\\Users\\Usuario\\AppData\\Local\\Programs\\Python\\Python310\\lib\\site-packages\\sklearn\\base.py:443: UserWarning: X has feature names, but DecisionTreeClassifier was fitted without feature names\n",
      "  warnings.warn(\n",
      "C:\\Users\\Usuario\\AppData\\Local\\Programs\\Python\\Python310\\lib\\site-packages\\sklearn\\base.py:443: UserWarning: X has feature names, but KNeighborsClassifier was fitted without feature names\n",
      "  warnings.warn(\n",
      "C:\\Users\\Usuario\\AppData\\Local\\Programs\\Python\\Python310\\lib\\site-packages\\sklearn\\base.py:443: UserWarning: X has feature names, but GaussianNB was fitted without feature names\n",
      "  warnings.warn(\n",
      "C:\\Users\\Usuario\\AppData\\Local\\Programs\\Python\\Python310\\lib\\site-packages\\sklearn\\base.py:443: UserWarning: X has feature names, but SVC was fitted without feature names\n",
      "  warnings.warn(\n"
     ]
    },
    {
     "name": "stdout",
     "output_type": "stream",
     "text": [
      "RandomForestClassifier Prediction: [ True]\n",
      "XGBClassifier          Prediction: [1]\n"
     ]
    },
    {
     "name": "stderr",
     "output_type": "stream",
     "text": [
      "C:\\Users\\Usuario\\AppData\\Local\\Programs\\Python\\Python310\\lib\\site-packages\\sklearn\\base.py:443: UserWarning: X has feature names, but RandomForestClassifier was fitted without feature names\n",
      "  warnings.warn(\n"
     ]
    }
   ],
   "source": [
    "# Observe the different predictions for the available models\n",
    "for model in models_list:\n",
    "    print(\n",
    "        f'{model.__name__:22} Prediction: {model().fit(X,y).predict(molina)}'\n",
    "    )"
   ]
  }
 ],
 "metadata": {
  "kernelspec": {
   "display_name": "Python 3 (ipykernel)",
   "language": "python",
   "name": "python3"
  },
  "language_info": {
   "codemirror_mode": {
    "name": "ipython",
    "version": 3
   },
   "file_extension": ".py",
   "mimetype": "text/x-python",
   "name": "python",
   "nbconvert_exporter": "python",
   "pygments_lexer": "ipython3",
   "version": "3.10.4"
  }
 },
 "nbformat": 4,
 "nbformat_minor": 5
}
